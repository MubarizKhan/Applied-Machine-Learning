{
  "nbformat": 4,
  "nbformat_minor": 0,
  "metadata": {
    "colab": {
      "name": "Naive-Bayes.ipynb",
      "provenance": [],
      "collapsed_sections": []
    },
    "kernelspec": {
      "name": "python3",
      "display_name": "Python 3"
    },
    "language_info": {
      "name": "python"
    }
  },
  "cells": [
    {
      "cell_type": "code",
      "metadata": {
        "id": "5njobqkB7mXI"
      },
      "source": [
        "'''                                     Mubariz Ahmed Khan P180010(A)\n",
        "This notebook contains the from scratch implementation of the from scratch Implementaion of the Naive Bayes model,\n",
        "and also the use of the sci-kit implementation; the datasets which are to be used are load_wine, Load_iris and \n",
        "load_digits ''' "
      ],
      "execution_count": null,
      "outputs": []
    },
    {
      "cell_type": "code",
      "metadata": {
        "id": "QT1EjD4CpWoe"
      },
      "source": [
        "\n",
        "from sklearn import datasets\n",
        "from sklearn.model_selection import train_test_split\n",
        "from collections import Counter\n",
        "import numpy as np\n",
        "from math import sqrt\n",
        "from math import pi\n",
        "from math import exp\n",
        "\n",
        "#  Calculate the mean of a list of numbers\n",
        "def mean(numbers):\n",
        "  return sum(numbers)/float(len(numbers))\n",
        "from math import sqrt\n",
        "\n",
        "# Calculate the standard deviation of a list of numbers\n",
        "def stdev(numbers):\n",
        "  avg = mean(numbers)\n",
        "  variance = sum([(x-avg)**2 for x in numbers]) / float(len(numbers)-1)\n",
        "  return sqrt(variance)"
      ],
      "execution_count": null,
      "outputs": []
    },
    {
      "cell_type": "code",
      "metadata": {
        "id": "ll776WuLpxPa"
      },
      "source": [
        "class NB:\n",
        "\n",
        "  def __init__ (self, datasets):\n",
        "    self.datasets = datasets\n",
        "\n",
        "  # Split the dataset by class values, returns a dictionary\n",
        "  def separate_by_class(self, dataset):\n",
        "    separated = dict()\n",
        "    for i in range(len(dataset)):\n",
        "      vector = dataset[i]\n",
        "      class_value = vector[-1]\n",
        "      if (class_value not in separated):\n",
        "        separated[class_value] = list()\n",
        "      separated[class_value].append(vector)\n",
        "    return separated\n",
        "\n",
        "  # Calculate the mean, stdev and count for each column in a dataset\n",
        "  def summarize_dataset(self, dataset):\n",
        "    summaries = [(mean(column), stdev(column), len(column)) for column in zip(*dataset)]\n",
        "    del(summaries[-1])\n",
        "    return summaries\n",
        "\n",
        "  # Split dataset by class then calculate statistics for each row\n",
        "  def summarize_by_class(self, dataset):\n",
        "    separated = self.separate_by_class(dataset)\n",
        "    summaries = dict()\n",
        "    for class_value, rows in separated.items():\n",
        "      summaries[class_value] = self.summarize_dataset(rows)\n",
        "    return summaries\n",
        "\n",
        "  # Calculate the Gaussian probability distribution function for x\n",
        "  def calculate_probability(self, x, mean, stdev):\n",
        "    exponent = exp(-((x-mean)**2 / (2 * stdev**2 )))\n",
        "    return (1 / (sqrt(2 * pi) * stdev)) * exponent\n",
        "\n",
        "  # Calculate the probabilities of predicting each class for a given row\n",
        "  def calculate_class_probabilities(self, summaries, row):\n",
        "    total_rows = sum([summaries[label][0][2] for label in summaries])\n",
        "    probabilities = dict()\n",
        "    for class_value, class_summaries in summaries.items():\n",
        "      probabilities[class_value] = summaries[class_value][0][2]/float(total_rows)\n",
        "      for i in range(len(class_summaries)):\n",
        "        mean, stdev, count = class_summaries[i]\n",
        "        probabilities[class_value] *= self.calculate_probability(row[i], mean, stdev)\n",
        "    return probabilities"
      ],
      "execution_count": null,
      "outputs": []
    },
    {
      "cell_type": "code",
      "metadata": {
        "id": "pm8Y9U7up2Ye"
      },
      "source": [
        "if __name__ == \"__main__\":\n",
        "  # cls is an instant of class NaivaBayes \n",
        "  cls = NB(dataset)\n",
        "\n",
        "  # dataset\n",
        "  \n",
        "  dataset = [[3.393533211,2.331273381,0],\n",
        "\t[3.110073483,1.781539638,0],\n",
        "\t[1.343808831,3.368360954,0],\n",
        "\t[3.582294042,4.67917911,0],\n",
        "\t[2.280362439,2.866990263,0],\n",
        "\t[7.423436942,4.696522875,1],\n",
        "\t[5.745051997,3.533989803,1],\n",
        "\t[9.172168622,2.511101045,1],\n",
        "\t[7.792783481,3.424088941,1],\n",
        "\t[7.939820817,0.791637231,1]]\n",
        "  \n",
        "  \n",
        "  # Split the dataset by class values, returns a dictionary\n",
        "  separated = cls.separate_by_class(dataset)\n",
        "  print(\"[* ] - Split the dataset by class values, returns a dictionary:\\n\", separated)\n",
        "  for label in separated:\n",
        "    print(label)\n",
        "    for row in separated[label]:\n",
        "      print(row)\n",
        "\n",
        "  # Calculate the mean, stdev and count for each column in a dataset\n",
        "  print(\"[* ] - Calculate the mean, stdev and count for each column in a dataset:\\n\")\n",
        "  summary = cls.summarize_dataset(dataset)\n",
        "  print(summary)\n",
        "  \n",
        "  # Split dataset by class then calculate statistics for each row\n",
        "  print(\"[* ] - Split dataset by class then calculate statistics for each row:\\n\")\n",
        "  summarize = cls.summarize_by_class(dataset)\n",
        "  for label in summarize:\n",
        "    print(label)\n",
        "    for row in summarize[label]:\n",
        "      print(row)\n",
        "\n",
        "  # Calculate Class Probabilities\n",
        "  summaries = cls.summarize_by_class(dataset)\n",
        "  probabilities = cls.calculate_class_probabilities(summaries, dataset[0])\n",
        "  print(\"[* ] - Class Probabilities:\\n\", probabilities)"
      ],
      "execution_count": null,
      "outputs": []
    },
    {
      "cell_type": "code",
      "metadata": {
        "id": "vml-h5jop3gi"
      },
      "source": [
        "dataset"
      ],
      "execution_count": null,
      "outputs": []
    },
    {
      "cell_type": "code",
      "metadata": {
        "id": "BGB2V5Lqp3aW"
      },
      "source": [
        "from sklearn.datasets import load_iris\n",
        "from sklearn.model_selection import train_test_split\n",
        "from sklearn.naive_bayes import GaussianNB"
      ],
      "execution_count": null,
      "outputs": []
    },
    {
      "cell_type": "code",
      "metadata": {
        "colab": {
          "base_uri": "https://localhost:8080/"
        },
        "id": "Dfsci907p3Vl",
        "outputId": "f5ecb3b3-e7a0-4d42-eb88-f9bf1d105083"
      },
      "source": [
        "X, y = load_iris(return_X_y=True)\n",
        "X_train, X_test, y_train, y_test = train_test_split(X, y, test_size=0.5, random_state=0)\n",
        "gnb = GaussianNB()\n",
        "y_pred = gnb.fit(X_train, y_train).predict(X_test)\n",
        "print(\"Number of mislabeled points out of a total %d points : %d\"\n",
        "% (X_test.shape[0], (y_test != y_pred).sum()))\n",
        "# f1 = (y_pred, y_test)"
      ],
      "execution_count": null,
      "outputs": [
        {
          "output_type": "stream",
          "name": "stdout",
          "text": [
            "Number of mislabeled points out of a total 75 points : 4\n"
          ]
        }
      ]
    },
    {
      "cell_type": "code",
      "metadata": {
        "colab": {
          "base_uri": "https://localhost:8080/"
        },
        "id": "EcB6bv-Rp3RL",
        "outputId": "29b5e162-6df7-40e8-88c4-6b16dc6d2714"
      },
      "source": [
        "from sklearn.metrics import accuracy_score,f1_score\n",
        "# print(dtc.score(x_test, y_test))\n",
        "# print(accuracy_score(y_test, y_pred))\n",
        "print(f1_score(y_test, y_pred, average='macro'))"
      ],
      "execution_count": null,
      "outputs": [
        {
          "output_type": "stream",
          "name": "stdout",
          "text": [
            "0.9488636363636364\n"
          ]
        }
      ]
    },
    {
      "cell_type": "code",
      "metadata": {
        "colab": {
          "base_uri": "https://localhost:8080/"
        },
        "id": "wKMF2lWMp3K0",
        "outputId": "5c5e51fd-aa11-4991-ba11-b5a53abd8057"
      },
      "source": [
        "X, y = datasets.load_digits(return_X_y=True)\n",
        "X_train, X_test, y_train, y_test = train_test_split(X, y, test_size=0.5, random_state=0)\n",
        "gnb = GaussianNB()\n",
        "y_pred = gnb.fit(X_train, y_train).predict(X_test)\n",
        "print(\"Number of mislabeled points out of a total %d points : %d\"\n",
        "% (X_test.shape[0], (y_test != y_pred).sum()))\n",
        "# f1 = (y_pred, y_test)"
      ],
      "execution_count": null,
      "outputs": [
        {
          "output_type": "stream",
          "name": "stdout",
          "text": [
            "Number of mislabeled points out of a total 899 points : 149\n"
          ]
        }
      ]
    },
    {
      "cell_type": "code",
      "metadata": {
        "colab": {
          "base_uri": "https://localhost:8080/"
        },
        "id": "LHAykBRx7g7A",
        "outputId": "80f9210e-3d20-4e2c-ac2a-8611445d530e"
      },
      "source": [
        "from sklearn.metrics import accuracy_score,f1_score\n",
        "# print(dtc.score(x_test, y_test))\n",
        "# print(accuracy_score(y_test, y_pred))\n",
        "print(f1_score(y_test, y_pred, average='macro'))"
      ],
      "execution_count": null,
      "outputs": [
        {
          "output_type": "stream",
          "name": "stdout",
          "text": [
            "0.9488636363636364\n"
          ]
        }
      ]
    },
    {
      "cell_type": "code",
      "metadata": {
        "colab": {
          "base_uri": "https://localhost:8080/"
        },
        "id": "YLbK7hNZ7g9u",
        "outputId": "faea7991-e8fc-4eb5-c4df-6cc1b855996f"
      },
      "source": [
        "ld = datasets.load_wine()\n",
        "X_train, X_test, y_train, y_test = train_test_split(X, y, test_size=0.5, random_state=0)\n",
        "gnb = GaussianNB()\n",
        "y_pred = gnb.fit(X_train, y_train).predict(X_test)\n",
        "print(\"Number of mislabeled points out of a total %d points : %d\"\n",
        "% (X_test.shape[0], (y_test != y_pred).sum()))"
      ],
      "execution_count": null,
      "outputs": [
        {
          "output_type": "stream",
          "name": "stdout",
          "text": [
            "Number of mislabeled points out of a total 75 points : 4\n"
          ]
        }
      ]
    },
    {
      "cell_type": "code",
      "metadata": {
        "id": "mbKJx-Za7hCL"
      },
      "source": [
        ""
      ],
      "execution_count": null,
      "outputs": []
    },
    {
      "cell_type": "code",
      "metadata": {
        "id": "xb7WusZvp28E"
      },
      "source": [
        ""
      ],
      "execution_count": null,
      "outputs": []
    }
  ]
}