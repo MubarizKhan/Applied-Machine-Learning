{
  "cells": [
    {
      "cell_type": "code",
      "execution_count": 1,
      "metadata": {
        "id": "J2Kn3LnWPEEV"
      },
      "outputs": [],
      "source": [
        "# Mubariz Ahmed Khan P180010(A)"
      ]
    },
    {
      "cell_type": "code",
      "source": [
        "from google.colab import drive\n",
        "drive.mount('/content/drive', force_remount=True)"
      ],
      "metadata": {
        "id": "sPM-t7dzlhm_"
      },
      "execution_count": null,
      "outputs": []
    },
    {
      "cell_type": "code",
      "source": [
        "df = pd.read_csv('/content/drive/MyDrive/MNAD-FYP/student-data.csv.csv')\n",
        "pprint(df.sample(12))\n",
        "print('Shape: {}'.format(df.shape))"
      ],
      "metadata": {
        "id": "39J8GDFjwPuL"
      },
      "execution_count": null,
      "outputs": []
    },
    {
      "cell_type": "code",
      "execution_count": null,
      "metadata": {
        "id": "AE_7HpX6PJVt"
      },
      "outputs": [],
      "source": [
        "import pandas as pd\n",
        "from pprint import pprint\n",
        "from sklearn.tree import DecisionTreeClassifier # Import Decision Tree Classifier\n",
        "from sklearn.model_selection import train_test_split # Import train_test_split function\n",
        "from sklearn import metrics"
      ]
    },
    {
      "cell_type": "code",
      "execution_count": null,
      "metadata": {
        "colab": {
          "base_uri": "https://localhost:8080/"
        },
        "id": "zMiIRWDBPdex",
        "outputId": "af78ec6c-f227-4f73-dca1-95a3258d3716"
      },
      "outputs": [
        {
          "name": "stdout",
          "output_type": "stream",
          "text": [
            "  Student ID  Marks > 50  Attendance > 50  Subjects > 20 Grade (S/U)\n",
            "0    P181234           1                1              1           S\n",
            "1    P180001           1                1              0           S\n",
            "2    P180002           0                1              1           U\n",
            "3    P180003           1                0              0           S\n",
            "4    P180004           0                1              1           U\n"
          ]
        }
      ],
      "source": [
        ""
      ]
    },
    {
      "cell_type": "code",
      "execution_count": null,
      "metadata": {
        "colab": {
          "base_uri": "https://localhost:8080/"
        },
        "id": "GCAQ4_4WSuNL",
        "outputId": "3568b5f5-a8a2-4f31-c430-79f740ea6844"
      },
      "outputs": [
        {
          "data": {
            "text/plain": [
              "Index(['Student ID', 'Marks > 50', 'Attendance > 50', 'Subjects > 20',\n",
              "       'Grade (S/U)'],\n",
              "      dtype='object')"
            ]
          },
          "execution_count": 26,
          "metadata": {},
          "output_type": "execute_result"
        }
      ],
      "source": [
        "df.columns"
      ]
    },
    {
      "cell_type": "code",
      "execution_count": null,
      "metadata": {
        "id": "P6kgZiODPfZt"
      },
      "outputs": [],
      "source": [
        "col_names = ['Marks > 50', 'Attendance > 50', 'Subjects > 20']\n",
        "# target_label = table1['Grade (S/U)']\n",
        "X = df[col_names] # Features\n",
        "y = df['Grade (S/U)']"
      ]
    },
    {
      "cell_type": "code",
      "execution_count": null,
      "metadata": {
        "id": "gejJSuTiROXG"
      },
      "outputs": [],
      "source": [
        "X_train, X_test, y_train, y_test = train_test_split(X, y, test_size=0.3, random_state=1) # 70% training and 30% test"
      ]
    },
    {
      "cell_type": "code",
      "execution_count": null,
      "metadata": {
        "id": "0W2r92YCTbwe"
      },
      "outputs": [],
      "source": [
        "clf = DecisionTreeClassifier(criterion=\"entropy\")\n",
        "\n",
        "# Train Decision Tree Classifer\n",
        "clf = clf.fit(X_train,y_train)\n"
      ]
    },
    {
      "cell_type": "code",
      "execution_count": null,
      "metadata": {
        "id": "LBuRkBCuTgLL"
      },
      "outputs": [],
      "source": [
        "y_pred = clf.predict(X_test)"
      ]
    },
    {
      "cell_type": "code",
      "execution_count": null,
      "metadata": {
        "colab": {
          "base_uri": "https://localhost:8080/"
        },
        "id": "qsEjqdanTrYz",
        "outputId": "1090e4dc-2ba4-4a31-8bab-77badbed19e8"
      },
      "outputs": [
        {
          "name": "stdout",
          "output_type": "stream",
          "text": [
            "Accuracy: 0.5\n"
          ]
        }
      ],
      "source": [
        "# Model Accuracy, how often is the classifier correct?\n",
        "print(\"Accuracy:\",metrics.accuracy_score(y_test, y_pred))"
      ]
    },
    {
      "cell_type": "code",
      "execution_count": null,
      "metadata": {
        "colab": {
          "base_uri": "https://localhost:8080/"
        },
        "id": "Vw71IKa0Wpes",
        "outputId": "9345d9ec-8d88-4518-9a03-9d37a4038a33"
      },
      "outputs": [
        {
          "data": {
            "text/plain": [
              "1.0"
            ]
          },
          "execution_count": 64,
          "metadata": {},
          "output_type": "execute_result"
        }
      ],
      "source": [
        "# recall\n",
        "from sklearn.metrics import recall_score\n",
        "recall_score(y_test, y_pred,pos_label=\"S\")"
      ]
    },
    {
      "cell_type": "code",
      "execution_count": null,
      "metadata": {
        "id": "CEBfFK2tTu5J"
      },
      "outputs": [],
      "source": [
        "# print(classification_report(y_test, y_pred))"
      ]
    },
    {
      "cell_type": "code",
      "execution_count": null,
      "metadata": {
        "colab": {
          "base_uri": "https://localhost:8080/"
        },
        "id": "FXtxuZP2V0rq",
        "outputId": "b3c01e9a-bce1-47fa-ddbd-ec53124dfc27"
      },
      "outputs": [
        {
          "data": {
            "text/plain": [
              "0.5"
            ]
          },
          "execution_count": 73,
          "metadata": {},
          "output_type": "execute_result"
        }
      ],
      "source": [
        "# Precision Score\n",
        "from sklearn.metrics import precision_score\n",
        "precision_score(y_test,y_pred,pos_label=\"S\")"
      ]
    },
    {
      "cell_type": "code",
      "execution_count": null,
      "metadata": {
        "colab": {
          "base_uri": "https://localhost:8080/"
        },
        "id": "jcJIQltJfgUx",
        "outputId": "360322a9-08e3-4aed-ee54-fd8b08ab4ed4"
      },
      "outputs": [
        {
          "data": {
            "text/plain": [
              "0.5"
            ]
          },
          "execution_count": 79,
          "metadata": {},
          "output_type": "execute_result"
        }
      ],
      "source": [
        "# F2 Score\n",
        "from sklearn.metrics import fbeta_score\n",
        "fbeta_score(y_test,y_pred, pos_label=\"S\", beta = 0)"
      ]
    },
    {
      "cell_type": "code",
      "execution_count": null,
      "metadata": {
        "colab": {
          "base_uri": "https://localhost:8080/"
        },
        "id": "BdDV4VzhhCql",
        "outputId": "427995fc-857c-450a-924d-67bafd01081a"
      },
      "outputs": [
        {
          "data": {
            "text/plain": [
              "0.0"
            ]
          },
          "execution_count": 81,
          "metadata": {},
          "output_type": "execute_result"
        }
      ],
      "source": [
        "# MMC\n",
        "from sklearn.metrics import matthews_corrcoef\n",
        "matthews_corrcoef(y_test,y_pred)"
      ]
    },
    {
      "cell_type": "code",
      "execution_count": null,
      "metadata": {
        "colab": {
          "base_uri": "https://localhost:8080/"
        },
        "id": "cczQg0iGhg2h",
        "outputId": "896a7b62-49b3-4de2-abd3-122f233c2ebb"
      },
      "outputs": [
        {
          "data": {
            "text/plain": [
              "0.5"
            ]
          },
          "execution_count": 83,
          "metadata": {},
          "output_type": "execute_result"
        }
      ],
      "source": [
        "# Jaccarrd Score\n",
        "from sklearn.metrics import jaccard_score\n",
        "jaccard_score(y_test,y_pred,pos_label=\"S\")"
      ]
    },
    {
      "cell_type": "code",
      "execution_count": null,
      "metadata": {
        "id": "vCqy6za6hvgl"
      },
      "outputs": [],
      "source": [
        ""
      ]
    }
  ],
  "metadata": {
    "colab": {
      "collapsed_sections": [],
      "name": "Decision_Tree(P180010).ipynb",
      "provenance": []
    },
    "kernelspec": {
      "display_name": "Python 3 (ipykernel)",
      "language": "python",
      "name": "python3"
    },
    "language_info": {
      "codemirror_mode": {
        "name": "ipython",
        "version": 3
      },
      "file_extension": ".py",
      "mimetype": "text/x-python",
      "name": "python",
      "nbconvert_exporter": "python",
      "pygments_lexer": "ipython3",
      "version": "3.9.6"
    }
  },
  "nbformat": 4,
  "nbformat_minor": 0
}