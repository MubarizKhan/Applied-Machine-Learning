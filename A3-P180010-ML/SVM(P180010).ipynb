{
  "nbformat": 4,
  "nbformat_minor": 0,
  "metadata": {
    "colab": {
      "name": "SVM(P180010).ipynb",
      "provenance": []
    },
    "kernelspec": {
      "name": "python3",
      "display_name": "Python 3"
    },
    "language_info": {
      "name": "python"
    }
  },
  "cells": [
    {
      "cell_type": "markdown",
      "source": [
        "#Question 1\n",
        "##You are provided with the dataset (mount from drive):\n",
        "1. Load the dataset into the Pandas DataFrame.\n",
        "\n",
        "2. Split the dataset into training and validation data randomly with 8 in-\n",
        "stances as training and 4 as validation.\n",
        "\n",
        "3. Apply Linear SVM classifier with the regularization parameter values of\n",
        "[0.1 to 1.0] and display the results as SVM1 to SVM10.\n",
        "4. Apply the weighted majority voting on the results of SVM1 to SVM10\n",
        "with the weights of [0.1 to 1.0].\n",
        "5. Apply the hard majority voting on the same results as in step 3 (SVM1\n",
        "to SVM10)."
      ],
      "metadata": {
        "id": "3H0BcWhPlcOe"
      }
    },
    {
      "cell_type": "code",
      "source": [
        "# Mubariz Ahmed Khan P180010(A)"
      ],
      "metadata": {
        "id": "sPM-t7dzlhm_"
      },
      "execution_count": null,
      "outputs": []
    },
    {
      "cell_type": "code",
      "execution_count": 2,
      "metadata": {
        "colab": {
          "base_uri": "https://localhost:8080/"
        },
        "id": "4oKpp9ak7vqn",
        "outputId": "1d56ed7d-91d8-489f-f4b3-86a5d1f3a92f"
      },
      "outputs": [
        {
          "output_type": "stream",
          "name": "stdout",
          "text": [
            "Mounted at /content/drive\n"
          ]
        }
      ],
      "source": [
        "from google.colab import drive\n",
        "drive.mount('/content/drive', force_remount=True)"
      ]
    },
    {
      "cell_type": "code",
      "source": [
        "import pandas as pd\n",
        "from pprint import pprint\n",
        "from sklearn.model_selection import train_test_split \n",
        "from sklearn.ensemble import VotingClassifier\n",
        "from sklearn.metrics import accuracy_score"
      ],
      "metadata": {
        "id": "R9o3mgTI7yFu"
      },
      "execution_count": 4,
      "outputs": []
    },
    {
      "cell_type": "code",
      "source": [
        "df = pd.read_csv('/content/drive/MyDrive/MNAD-FYP/student-data.csv.csv')\n",
        "pprint(df.sample(12))\n",
        "print('Shape: {}'.format(df.shape))"
      ],
      "metadata": {
        "id": "36WB1ZHE70TC"
      },
      "execution_count": null,
      "outputs": []
    },
    {
      "cell_type": "code",
      "source": [
        "print('Columns in dataframe: \\n{}'.format(df.columns))"
      ],
      "metadata": {
        "colab": {
          "base_uri": "https://localhost:8080/"
        },
        "id": "VckBlSIR8Cw5",
        "outputId": "03911a27-7a36-4e7d-c3a7-634afbfc4684"
      },
      "execution_count": 6,
      "outputs": [
        {
          "output_type": "stream",
          "name": "stdout",
          "text": [
            "Columns in dataframe: \n",
            "Index(['Student ID', 'Marks > 50', 'Attendance > 50', 'Subjects > 20',\n",
            "       'Grade(S/U)'],\n",
            "      dtype='object')\n"
          ]
        }
      ]
    },
    {
      "cell_type": "code",
      "source": [
        "features = ['Marks > 50', 'Attendance > 50', 'Subjects > 20']\n",
        "\n",
        "X = df[features] # Features\n",
        "\n",
        "y = df['Grade(S/U)']"
      ],
      "metadata": {
        "id": "85qEEqzd8VwR"
      },
      "execution_count": 7,
      "outputs": []
    },
    {
      "cell_type": "code",
      "source": [
        "X_train, X_test, y_train, y_test = train_test_split(X, y, train_size=8, test_size=4, shuffle=True, random_state=1)"
      ],
      "metadata": {
        "id": "IsTUHvL48nzx"
      },
      "execution_count": 30,
      "outputs": []
    },
    {
      "cell_type": "code",
      "source": [
        "X_train"
      ],
      "metadata": {
        "colab": {
          "base_uri": "https://localhost:8080/",
          "height": 300
        },
        "id": "tU-l0KnIGZ13",
        "outputId": "f02fd383-b6cb-4c2c-fb16-f2b17266d412"
      },
      "execution_count": 31,
      "outputs": [
        {
          "output_type": "execute_result",
          "data": {
            "text/html": [
              "<div>\n",
              "<style scoped>\n",
              "    .dataframe tbody tr th:only-of-type {\n",
              "        vertical-align: middle;\n",
              "    }\n",
              "\n",
              "    .dataframe tbody tr th {\n",
              "        vertical-align: top;\n",
              "    }\n",
              "\n",
              "    .dataframe thead th {\n",
              "        text-align: right;\n",
              "    }\n",
              "</style>\n",
              "<table border=\"1\" class=\"dataframe\">\n",
              "  <thead>\n",
              "    <tr style=\"text-align: right;\">\n",
              "      <th></th>\n",
              "      <th>Marks &gt; 50</th>\n",
              "      <th>Attendance &gt; 50</th>\n",
              "      <th>Subjects &gt; 20</th>\n",
              "    </tr>\n",
              "  </thead>\n",
              "  <tbody>\n",
              "    <tr>\n",
              "      <th>1</th>\n",
              "      <td>1</td>\n",
              "      <td>1</td>\n",
              "      <td>0</td>\n",
              "    </tr>\n",
              "    <tr>\n",
              "      <th>6</th>\n",
              "      <td>1</td>\n",
              "      <td>1</td>\n",
              "      <td>1</td>\n",
              "    </tr>\n",
              "    <tr>\n",
              "      <th>0</th>\n",
              "      <td>1</td>\n",
              "      <td>1</td>\n",
              "      <td>1</td>\n",
              "    </tr>\n",
              "    <tr>\n",
              "      <th>7</th>\n",
              "      <td>0</td>\n",
              "      <td>0</td>\n",
              "      <td>0</td>\n",
              "    </tr>\n",
              "    <tr>\n",
              "      <th>12</th>\n",
              "      <td>0</td>\n",
              "      <td>1</td>\n",
              "      <td>1</td>\n",
              "    </tr>\n",
              "    <tr>\n",
              "      <th>9</th>\n",
              "      <td>1</td>\n",
              "      <td>1</td>\n",
              "      <td>1</td>\n",
              "    </tr>\n",
              "    <tr>\n",
              "      <th>8</th>\n",
              "      <td>0</td>\n",
              "      <td>0</td>\n",
              "      <td>1</td>\n",
              "    </tr>\n",
              "    <tr>\n",
              "      <th>11</th>\n",
              "      <td>1</td>\n",
              "      <td>0</td>\n",
              "      <td>0</td>\n",
              "    </tr>\n",
              "  </tbody>\n",
              "</table>\n",
              "</div>"
            ],
            "text/plain": [
              "    Marks > 50  Attendance > 50  Subjects > 20\n",
              "1            1                1              0\n",
              "6            1                1              1\n",
              "0            1                1              1\n",
              "7            0                0              0\n",
              "12           0                1              1\n",
              "9            1                1              1\n",
              "8            0                0              1\n",
              "11           1                0              0"
            ]
          },
          "metadata": {},
          "execution_count": 31
        }
      ]
    },
    {
      "cell_type": "markdown",
      "source": [
        "##Apply Linear SVM classifier with the regularization parameter values of [0.1 to 1.0] and display the results as SVM1 to SVM10."
      ],
      "metadata": {
        "id": "0d9qLp-lI8P2"
      }
    },
    {
      "cell_type": "code",
      "source": [
        " # Fitting SVM to the Training set\n",
        "from sklearn.svm import SVC\n",
        "\n",
        "# regularization parameter values of [0.1 to 1.0]:\n",
        "arr = [0.1, 0.2, 0.3, 0.4, 0.5, 0.6, 0.7, 0.8, 0.9, 1.0]\n",
        "\n",
        "for i in range(0, len(arr)):\n",
        "\n",
        "  clf = SVC(kernel = 'linear', C = arr[i]) # where C is a regularization parameter\n",
        "  clf.fit(X_train, y_train)\n",
        "\n",
        "  pred = clf.predict(X_test)\n",
        "  acc = accuracy_score(y_test, pred)\n",
        "  print('SVM{}:\\n For C = {}, Accuracy Score = {}\\n'.format(i+1, arr[i], acc))\n"
      ],
      "metadata": {
        "id": "xwxB6uwT0ewc"
      },
      "execution_count": null,
      "outputs": []
    },
    {
      "cell_type": "code",
      "source": [
        ""
      ],
      "metadata": {
        "id": "qZJDh4n-81zj"
      },
      "execution_count": null,
      "outputs": []
    },
    {
      "cell_type": "code",
      "source": [
        "# Apply the weighted majority voting on the results of SVM1 to SVM10\n",
        "# with the weights of [0.1 to 1.0]."
      ],
      "metadata": {
        "id": "D5_QoEPt0ejN"
      },
      "execution_count": 32,
      "outputs": []
    },
    {
      "cell_type": "code",
      "source": [
        " from sklearn.svm import SVC\n",
        " svc = SVC(gamma ='auto', probability = True)"
      ],
      "metadata": {
        "id": "wo7smH2u844w"
      },
      "execution_count": 11,
      "outputs": []
    },
    {
      "cell_type": "code",
      "source": [
        "svc.fit(X,y)"
      ],
      "metadata": {
        "id": "0UjFVrQc9czR",
        "colab": {
          "base_uri": "https://localhost:8080/"
        },
        "outputId": "b7653a78-b54e-425e-b3e8-9c4e77853875"
      },
      "execution_count": 12,
      "outputs": [
        {
          "output_type": "execute_result",
          "data": {
            "text/plain": [
              "SVC(gamma='auto', probability=True)"
            ]
          },
          "metadata": {},
          "execution_count": 12
        }
      ]
    },
    {
      "cell_type": "code",
      "source": [
        "vot_hard = VotingClassifier(estimators = [('SVC',svc)], voting ='hard')\n",
        "vot_hard.fit(X_train, y_train)\n",
        "y_pred = vot_hard.predict(X_test)\n",
        "score = accuracy_score(y_test, y_pred)\n",
        "print(\"Hard Voting Score % d\" % score)"
      ],
      "metadata": {
        "id": "Ihxpfjoz96NQ",
        "colab": {
          "base_uri": "https://localhost:8080/"
        },
        "outputId": "03d54735-e0d3-49cf-efad-e6a76e562ff6"
      },
      "execution_count": 13,
      "outputs": [
        {
          "output_type": "stream",
          "name": "stdout",
          "text": [
            "Hard Voting Score  0\n"
          ]
        }
      ]
    },
    {
      "cell_type": "code",
      "source": [
        "clf1 = SVC(kernel = 'linear', C = 0.1)\n",
        "clf2 = SVC(kernel = 'linear', C = 0.2)\n",
        "clf3 = SVC(kernel = 'linear', C = 0.3)\n",
        "clf4 = SVC(kernel = 'linear', C = 0.4)\n",
        "clf5 = SVC(kernel = 'linear', C = 0.5)\n",
        "clf6 = SVC(kernel = 'linear', C = 0.6)\n",
        "clf7 = SVC(kernel = 'linear', C = 0.7)\n",
        "clf8 = SVC(kernel = 'linear', C = 0.8)\n",
        "clf9 = SVC(kernel = 'linear', C = 0.9)\n",
        "clf10 = SVC(kernel = 'linear', C = 1.0)"
      ],
      "metadata": {
        "id": "xioYMzQrSIr9"
      },
      "execution_count": 14,
      "outputs": []
    },
    {
      "cell_type": "code",
      "source": [
        " eclf3 = VotingClassifier(estimators=[('SVM1', clf1),('SVM2', clf2), ('SVM3', clf3), ('SVM4', clf4), ('SVM5', clf5), ('SVM6', clf6), ('SVM7', clf7), ('SVM8', clf8), ('SVM9', clf9), ('SVM10', clf10)],\n",
        "           voting='hard', weights=[0.1, 0.2, 0.3, 0.4, 0.5, 0.6, 0.7, 0.8, 0.9, 1.0],\n",
        "           flatten_transform=True)"
      ],
      "metadata": {
        "id": "IrnNkeAEBahI"
      },
      "execution_count": 25,
      "outputs": []
    },
    {
      "cell_type": "code",
      "source": [
        "eclf3 = eclf3.fit(X, y)\n",
        "print(eclf3.predict(X))"
      ],
      "metadata": {
        "colab": {
          "base_uri": "https://localhost:8080/"
        },
        "id": "0qjyhOZOqcPq",
        "outputId": "368216cc-874b-4bd1-ad9d-79b6db7b090f"
      },
      "execution_count": 26,
      "outputs": [
        {
          "output_type": "stream",
          "name": "stdout",
          "text": [
            "['S' 'S' 'U' 'S' 'U' 'S' 'S' 'U' 'U' 'S' 'U' 'S' 'U']\n"
          ]
        }
      ]
    },
    {
      "cell_type": "code",
      "source": [
        " eclf3 = VotingClassifier(estimators=[('SVM1', clf1),('SVM2', clf2), ('SVM3', clf3), \n",
        "                                      ('SVM4', clf4), ('SVM5', clf5), ('SVM6', clf6), \n",
        "                                      ('SVM7', clf7), ('SVM8', clf8), ('SVM9', clf9), \n",
        "                                      ('SVM10', clf10)],\n",
        "           voting='hard',flatten_transform=True)"
      ],
      "metadata": {
        "id": "K3PlzS02uBUA"
      },
      "execution_count": 33,
      "outputs": []
    },
    {
      "cell_type": "code",
      "source": [
        "eclf3 = eclf3.fit(X, y)\n",
        "print(eclf3.predict(X))"
      ],
      "metadata": {
        "id": "JW53Z0CLFcu_",
        "colab": {
          "base_uri": "https://localhost:8080/"
        },
        "outputId": "ea0d8a1a-0bd1-423e-9df6-d3df40a0a49f"
      },
      "execution_count": 35,
      "outputs": [
        {
          "output_type": "stream",
          "name": "stdout",
          "text": [
            "['S' 'S' 'U' 'S' 'U' 'S' 'S' 'U' 'U' 'S' 'U' 'S' 'U']\n"
          ]
        }
      ]
    },
    {
      "cell_type": "code",
      "source": [
        ""
      ],
      "metadata": {
        "id": "4ozmzowtoOYB"
      },
      "execution_count": null,
      "outputs": []
    }
  ]
}